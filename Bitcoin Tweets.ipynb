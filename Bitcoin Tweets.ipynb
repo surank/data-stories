{
 "cells": [
  {
   "cell_type": "markdown",
   "metadata": {},
   "source": [
    "# Quick Analysis of Bitcoin Tweets from Tweepy streaming API, Pandas and Plot.ly\n",
    "\n",
    "\n",
    "This notebook is a simple analysis of some tweets I collected using the tweepy API that tracks a given key word in this case 'bitcoin' writes selected fields from the twitter json data set into a csv which we then read into a pandas dataframe for analysis.\n",
    "\n",
    "[How Do People Feel?](#How-Do-People-Feel?)\n",
    "\n",
    "[Tweets Over Time](#Tweets-Over-Time)\n",
    "\n",
    "[Tweet Mentions](#Tweet-Mentions)\n",
    "\n",
    "[Top 20 Tweeters with most followers](#Top-20-Tweeters-with-most-followers)\n",
    "\n",
    "[Tweets Per User Per Hour](#Tweets-Per-User-Per-Hour)\n"
   ]
  },
  {
   "cell_type": "code",
   "execution_count": 83,
   "metadata": {},
   "outputs": [],
   "source": [
    "#Setup the Environment by importing the libraries needed for this notebook\n",
    "\n",
    "import sys\n",
    "import os\n",
    "import pandas as pd\n",
    "import cufflinks as cf\n",
    "import plotly as py\n",
    "import plotly.graph_objs as go\n",
    "import datetime\n",
    "from plotly.offline import download_plotlyjs, init_notebook_mode,plot,iplot #allow offline and #notebook \n"
   ]
  },
  {
   "cell_type": "code",
   "execution_count": 84,
   "metadata": {},
   "outputs": [
    {
     "data": {
      "text/html": [
       "<script>requirejs.config({paths: { 'plotly': ['https://cdn.plot.ly/plotly-latest.min']},});if(!window.Plotly) {{require(['plotly'],function(plotly) {window.Plotly=plotly;});}}</script>"
      ],
      "text/vnd.plotly.v1+html": [
       "<script>requirejs.config({paths: { 'plotly': ['https://cdn.plot.ly/plotly-latest.min']},});if(!window.Plotly) {{require(['plotly'],function(plotly) {window.Plotly=plotly;});}}</script>"
      ]
     },
     "metadata": {},
     "output_type": "display_data"
    }
   ],
   "source": [
    "init_notebook_mode(connected=True) #allow plotly graphs to work inside notebook"
   ]
  },
  {
   "cell_type": "code",
   "execution_count": 85,
   "metadata": {
    "collapsed": true
   },
   "outputs": [],
   "source": [
    "column_name=['created_at','text','screen_name','followers_count','favourite_count','hashtaglist','device_used','feelings']"
   ]
  },
  {
   "cell_type": "code",
   "execution_count": 86,
   "metadata": {
    "collapsed": true
   },
   "outputs": [],
   "source": [
    "bitcoin_tweets='bitcointweets.csv'\n",
    "tweet=pd.read_csv(bitcoin_tweets,parse_dates=['created_at'],encoding='utf-8',names=column_name) #parse dates"
   ]
  },
  {
   "cell_type": "code",
   "execution_count": 87,
   "metadata": {
    "collapsed": true
   },
   "outputs": [],
   "source": [
    "pd.set_option('display.max_columns',None)\n",
    "pd.set_option('display.expand_frame_repr', False)"
   ]
  },
  {
   "cell_type": "code",
   "execution_count": 88,
   "metadata": {},
   "outputs": [
    {
     "data": {
      "text/html": [
       "<div>\n",
       "<style scoped>\n",
       "    .dataframe tbody tr th:only-of-type {\n",
       "        vertical-align: middle;\n",
       "    }\n",
       "\n",
       "    .dataframe tbody tr th {\n",
       "        vertical-align: top;\n",
       "    }\n",
       "\n",
       "    .dataframe thead th {\n",
       "        text-align: right;\n",
       "    }\n",
       "</style>\n",
       "<table border=\"1\" class=\"dataframe\">\n",
       "  <thead>\n",
       "    <tr style=\"text-align: right;\">\n",
       "      <th></th>\n",
       "      <th>created_at</th>\n",
       "      <th>text</th>\n",
       "      <th>screen_name</th>\n",
       "      <th>followers_count</th>\n",
       "      <th>favourite_count</th>\n",
       "      <th>hashtaglist</th>\n",
       "      <th>device_used</th>\n",
       "      <th>feelings</th>\n",
       "    </tr>\n",
       "  </thead>\n",
       "  <tbody>\n",
       "    <tr>\n",
       "      <th>0</th>\n",
       "      <td>2018-03-23 00:40:32</td>\n",
       "      <td>RT @ALXTOKEN: Paul Krugman, Nobel Luddite. I h...</td>\n",
       "      <td>myresumerocket</td>\n",
       "      <td>16522</td>\n",
       "      <td>0</td>\n",
       "      <td>[]</td>\n",
       "      <td>&lt;a href=\"http://twitter.com\" rel=\"nofollow\"&gt;Tw...</td>\n",
       "      <td>['neutral']</td>\n",
       "    </tr>\n",
       "    <tr>\n",
       "      <th>1</th>\n",
       "      <td>2018-03-23 00:40:34</td>\n",
       "      <td>@lopp @_Kevin_Pham @psycho_sage @naval But @Pr...</td>\n",
       "      <td>BitMocro</td>\n",
       "      <td>1295</td>\n",
       "      <td>0</td>\n",
       "      <td>[u'Bitcoin']</td>\n",
       "      <td>&lt;a href=\"http://twitter.com/download/android\" ...</td>\n",
       "      <td>['neutral']</td>\n",
       "    </tr>\n",
       "    <tr>\n",
       "      <th>2</th>\n",
       "      <td>2018-03-23 00:40:35</td>\n",
       "      <td>RT @tippereconomy: Another use case for #block...</td>\n",
       "      <td>hojachotopur</td>\n",
       "      <td>6090</td>\n",
       "      <td>0</td>\n",
       "      <td>[u'blockchain', u'Tipper', u'TipperEconomy']</td>\n",
       "      <td>&lt;a href=\"http://twitter.com\" rel=\"nofollow\"&gt;Tw...</td>\n",
       "      <td>['positive']</td>\n",
       "    </tr>\n",
       "    <tr>\n",
       "      <th>3</th>\n",
       "      <td>2018-03-23 00:40:36</td>\n",
       "      <td>free coins https://t.co/DiuoePJdap</td>\n",
       "      <td>denies_distro</td>\n",
       "      <td>2626</td>\n",
       "      <td>0</td>\n",
       "      <td>[]</td>\n",
       "      <td>&lt;a href=\"http://twitter.com\" rel=\"nofollow\"&gt;Tw...</td>\n",
       "      <td>['positive']</td>\n",
       "    </tr>\n",
       "    <tr>\n",
       "      <th>4</th>\n",
       "      <td>2018-03-23 00:40:36</td>\n",
       "      <td>RT @payvxofficial: WE are happy to announce th...</td>\n",
       "      <td>aditzgraha</td>\n",
       "      <td>184</td>\n",
       "      <td>0</td>\n",
       "      <td>[]</td>\n",
       "      <td>&lt;a href=\"http://twitter.com/download/android\" ...</td>\n",
       "      <td>['positive']</td>\n",
       "    </tr>\n",
       "  </tbody>\n",
       "</table>\n",
       "</div>"
      ],
      "text/plain": [
       "           created_at                                               text     screen_name  followers_count  favourite_count                                   hashtaglist                                        device_used      feelings\n",
       "0 2018-03-23 00:40:32  RT @ALXTOKEN: Paul Krugman, Nobel Luddite. I h...  myresumerocket            16522                0                                            []  <a href=\"http://twitter.com\" rel=\"nofollow\">Tw...   ['neutral']\n",
       "1 2018-03-23 00:40:34  @lopp @_Kevin_Pham @psycho_sage @naval But @Pr...        BitMocro             1295                0                                  [u'Bitcoin']  <a href=\"http://twitter.com/download/android\" ...   ['neutral']\n",
       "2 2018-03-23 00:40:35  RT @tippereconomy: Another use case for #block...    hojachotopur             6090                0  [u'blockchain', u'Tipper', u'TipperEconomy']  <a href=\"http://twitter.com\" rel=\"nofollow\">Tw...  ['positive']\n",
       "3 2018-03-23 00:40:36                 free coins https://t.co/DiuoePJdap   denies_distro             2626                0                                            []  <a href=\"http://twitter.com\" rel=\"nofollow\">Tw...  ['positive']\n",
       "4 2018-03-23 00:40:36  RT @payvxofficial: WE are happy to announce th...      aditzgraha              184                0                                            []  <a href=\"http://twitter.com/download/android\" ...  ['positive']"
      ]
     },
     "execution_count": 88,
     "metadata": {},
     "output_type": "execute_result"
    }
   ],
   "source": [
    "tweet.head()"
   ]
  },
  {
   "cell_type": "code",
   "execution_count": 89,
   "metadata": {
    "collapsed": true
   },
   "outputs": [],
   "source": [
    "tweet=tweet[~tweet['text'].str.contains('RT')] #remove retweets"
   ]
  },
  {
   "cell_type": "code",
   "execution_count": 90,
   "metadata": {},
   "outputs": [
    {
     "data": {
      "text/html": [
       "<div>\n",
       "<style scoped>\n",
       "    .dataframe tbody tr th:only-of-type {\n",
       "        vertical-align: middle;\n",
       "    }\n",
       "\n",
       "    .dataframe tbody tr th {\n",
       "        vertical-align: top;\n",
       "    }\n",
       "\n",
       "    .dataframe thead th {\n",
       "        text-align: right;\n",
       "    }\n",
       "</style>\n",
       "<table border=\"1\" class=\"dataframe\">\n",
       "  <thead>\n",
       "    <tr style=\"text-align: right;\">\n",
       "      <th></th>\n",
       "      <th>created_at</th>\n",
       "      <th>text</th>\n",
       "      <th>screen_name</th>\n",
       "      <th>followers_count</th>\n",
       "      <th>favourite_count</th>\n",
       "      <th>hashtaglist</th>\n",
       "      <th>device_used</th>\n",
       "      <th>feelings</th>\n",
       "    </tr>\n",
       "  </thead>\n",
       "  <tbody>\n",
       "    <tr>\n",
       "      <th>1</th>\n",
       "      <td>2018-03-23 00:40:34</td>\n",
       "      <td>@lopp @_Kevin_Pham @psycho_sage @naval But @Pr...</td>\n",
       "      <td>BitMocro</td>\n",
       "      <td>1295</td>\n",
       "      <td>0</td>\n",
       "      <td>[u'Bitcoin']</td>\n",
       "      <td>&lt;a href=\"http://twitter.com/download/android\" ...</td>\n",
       "      <td>['neutral']</td>\n",
       "    </tr>\n",
       "    <tr>\n",
       "      <th>3</th>\n",
       "      <td>2018-03-23 00:40:36</td>\n",
       "      <td>free coins https://t.co/DiuoePJdap</td>\n",
       "      <td>denies_distro</td>\n",
       "      <td>2626</td>\n",
       "      <td>0</td>\n",
       "      <td>[]</td>\n",
       "      <td>&lt;a href=\"http://twitter.com\" rel=\"nofollow\"&gt;Tw...</td>\n",
       "      <td>['positive']</td>\n",
       "    </tr>\n",
       "    <tr>\n",
       "      <th>5</th>\n",
       "      <td>2018-03-23 00:40:36</td>\n",
       "      <td>Copy successful traders automatically with Bit...</td>\n",
       "      <td>VictorS61164810</td>\n",
       "      <td>14</td>\n",
       "      <td>0</td>\n",
       "      <td>[]</td>\n",
       "      <td>&lt;a href=\"http://twitter.com\" rel=\"nofollow\"&gt;Tw...</td>\n",
       "      <td>['positive']</td>\n",
       "    </tr>\n",
       "    <tr>\n",
       "      <th>7</th>\n",
       "      <td>2018-03-23 00:40:37</td>\n",
       "      <td>One click to start mining cryptocurrencies tog...</td>\n",
       "      <td>cloud_speaker</td>\n",
       "      <td>6560</td>\n",
       "      <td>0</td>\n",
       "      <td>[u'bitcoin', u'PaaS', u'cloudnetwork']</td>\n",
       "      <td>&lt;a href=\"http://itunes.apple.com/us/app/twitte...</td>\n",
       "      <td>['neutral']</td>\n",
       "    </tr>\n",
       "    <tr>\n",
       "      <th>8</th>\n",
       "      <td>2018-03-23 00:40:38</td>\n",
       "      <td>first speaker @digitsu\\n\\n\"how we can get bitc...</td>\n",
       "      <td>MADinMelbourne</td>\n",
       "      <td>2991</td>\n",
       "      <td>0</td>\n",
       "      <td>[]</td>\n",
       "      <td>&lt;a href=\"http://twitter.com\" rel=\"nofollow\"&gt;Tw...</td>\n",
       "      <td>['positive']</td>\n",
       "    </tr>\n",
       "  </tbody>\n",
       "</table>\n",
       "</div>"
      ],
      "text/plain": [
       "           created_at                                               text      screen_name  followers_count  favourite_count                             hashtaglist                                        device_used      feelings\n",
       "1 2018-03-23 00:40:34  @lopp @_Kevin_Pham @psycho_sage @naval But @Pr...         BitMocro             1295                0                            [u'Bitcoin']  <a href=\"http://twitter.com/download/android\" ...   ['neutral']\n",
       "3 2018-03-23 00:40:36                 free coins https://t.co/DiuoePJdap    denies_distro             2626                0                                      []  <a href=\"http://twitter.com\" rel=\"nofollow\">Tw...  ['positive']\n",
       "5 2018-03-23 00:40:36  Copy successful traders automatically with Bit...  VictorS61164810               14                0                                      []  <a href=\"http://twitter.com\" rel=\"nofollow\">Tw...  ['positive']\n",
       "7 2018-03-23 00:40:37  One click to start mining cryptocurrencies tog...    cloud_speaker             6560                0  [u'bitcoin', u'PaaS', u'cloudnetwork']  <a href=\"http://itunes.apple.com/us/app/twitte...   ['neutral']\n",
       "8 2018-03-23 00:40:38  first speaker @digitsu\\n\\n\"how we can get bitc...   MADinMelbourne             2991                0                                      []  <a href=\"http://twitter.com\" rel=\"nofollow\">Tw...  ['positive']"
      ]
     },
     "execution_count": 90,
     "metadata": {},
     "output_type": "execute_result"
    }
   ],
   "source": [
    "tweet.head()"
   ]
  },
  {
   "cell_type": "code",
   "execution_count": 91,
   "metadata": {
    "collapsed": true
   },
   "outputs": [],
   "source": [
    "tweet['hashtaglist']=tweet['hashtaglist'].str.strip('[]') #cleanup square brackets\n",
    "tweet['feelings']=tweet['feelings'].str.strip('[]')"
   ]
  },
  {
   "cell_type": "code",
   "execution_count": 92,
   "metadata": {},
   "outputs": [
    {
     "data": {
      "text/html": [
       "<div>\n",
       "<style scoped>\n",
       "    .dataframe tbody tr th:only-of-type {\n",
       "        vertical-align: middle;\n",
       "    }\n",
       "\n",
       "    .dataframe tbody tr th {\n",
       "        vertical-align: top;\n",
       "    }\n",
       "\n",
       "    .dataframe thead th {\n",
       "        text-align: right;\n",
       "    }\n",
       "</style>\n",
       "<table border=\"1\" class=\"dataframe\">\n",
       "  <thead>\n",
       "    <tr style=\"text-align: right;\">\n",
       "      <th></th>\n",
       "      <th>created_at</th>\n",
       "      <th>text</th>\n",
       "      <th>screen_name</th>\n",
       "      <th>followers_count</th>\n",
       "      <th>favourite_count</th>\n",
       "      <th>hashtaglist</th>\n",
       "      <th>device_used</th>\n",
       "      <th>feelings</th>\n",
       "    </tr>\n",
       "  </thead>\n",
       "  <tbody>\n",
       "    <tr>\n",
       "      <th>1</th>\n",
       "      <td>2018-03-23 00:40:34</td>\n",
       "      <td>@lopp @_Kevin_Pham @psycho_sage @naval But @Pr...</td>\n",
       "      <td>BitMocro</td>\n",
       "      <td>1295</td>\n",
       "      <td>0</td>\n",
       "      <td>u'Bitcoin'</td>\n",
       "      <td>&lt;a href=\"http://twitter.com/download/android\" ...</td>\n",
       "      <td>'neutral'</td>\n",
       "    </tr>\n",
       "    <tr>\n",
       "      <th>3</th>\n",
       "      <td>2018-03-23 00:40:36</td>\n",
       "      <td>free coins https://t.co/DiuoePJdap</td>\n",
       "      <td>denies_distro</td>\n",
       "      <td>2626</td>\n",
       "      <td>0</td>\n",
       "      <td></td>\n",
       "      <td>&lt;a href=\"http://twitter.com\" rel=\"nofollow\"&gt;Tw...</td>\n",
       "      <td>'positive'</td>\n",
       "    </tr>\n",
       "    <tr>\n",
       "      <th>5</th>\n",
       "      <td>2018-03-23 00:40:36</td>\n",
       "      <td>Copy successful traders automatically with Bit...</td>\n",
       "      <td>VictorS61164810</td>\n",
       "      <td>14</td>\n",
       "      <td>0</td>\n",
       "      <td></td>\n",
       "      <td>&lt;a href=\"http://twitter.com\" rel=\"nofollow\"&gt;Tw...</td>\n",
       "      <td>'positive'</td>\n",
       "    </tr>\n",
       "    <tr>\n",
       "      <th>7</th>\n",
       "      <td>2018-03-23 00:40:37</td>\n",
       "      <td>One click to start mining cryptocurrencies tog...</td>\n",
       "      <td>cloud_speaker</td>\n",
       "      <td>6560</td>\n",
       "      <td>0</td>\n",
       "      <td>u'bitcoin', u'PaaS', u'cloudnetwork'</td>\n",
       "      <td>&lt;a href=\"http://itunes.apple.com/us/app/twitte...</td>\n",
       "      <td>'neutral'</td>\n",
       "    </tr>\n",
       "    <tr>\n",
       "      <th>8</th>\n",
       "      <td>2018-03-23 00:40:38</td>\n",
       "      <td>first speaker @digitsu\\n\\n\"how we can get bitc...</td>\n",
       "      <td>MADinMelbourne</td>\n",
       "      <td>2991</td>\n",
       "      <td>0</td>\n",
       "      <td></td>\n",
       "      <td>&lt;a href=\"http://twitter.com\" rel=\"nofollow\"&gt;Tw...</td>\n",
       "      <td>'positive'</td>\n",
       "    </tr>\n",
       "  </tbody>\n",
       "</table>\n",
       "</div>"
      ],
      "text/plain": [
       "           created_at                                               text      screen_name  followers_count  favourite_count                           hashtaglist                                        device_used    feelings\n",
       "1 2018-03-23 00:40:34  @lopp @_Kevin_Pham @psycho_sage @naval But @Pr...         BitMocro             1295                0                            u'Bitcoin'  <a href=\"http://twitter.com/download/android\" ...   'neutral'\n",
       "3 2018-03-23 00:40:36                 free coins https://t.co/DiuoePJdap    denies_distro             2626                0                                        <a href=\"http://twitter.com\" rel=\"nofollow\">Tw...  'positive'\n",
       "5 2018-03-23 00:40:36  Copy successful traders automatically with Bit...  VictorS61164810               14                0                                        <a href=\"http://twitter.com\" rel=\"nofollow\">Tw...  'positive'\n",
       "7 2018-03-23 00:40:37  One click to start mining cryptocurrencies tog...    cloud_speaker             6560                0  u'bitcoin', u'PaaS', u'cloudnetwork'  <a href=\"http://itunes.apple.com/us/app/twitte...   'neutral'\n",
       "8 2018-03-23 00:40:38  first speaker @digitsu\\n\\n\"how we can get bitc...   MADinMelbourne             2991                0                                        <a href=\"http://twitter.com\" rel=\"nofollow\">Tw...  'positive'"
      ]
     },
     "execution_count": 92,
     "metadata": {},
     "output_type": "execute_result"
    }
   ],
   "source": [
    "tweet.head() #data looks ok now. we can ignore the utf characters"
   ]
  },
  {
   "cell_type": "markdown",
   "metadata": {},
   "source": [
    "## How Do People Feel? \n",
    "\n",
    "This column uses the sentiment.polarity function of the TextBlob library to ascertain the sentiment of tweet text. \n",
    "A polarity less than 0 is negative, a polarity of 0 is neutral and anything more is considered positive. \n"
   ]
  },
  {
   "cell_type": "code",
   "execution_count": 93,
   "metadata": {
    "collapsed": true
   },
   "outputs": [],
   "source": [
    "feelings=tweet.groupby(['feelings'])['feelings'].count()"
   ]
  },
  {
   "cell_type": "code",
   "execution_count": 94,
   "metadata": {},
   "outputs": [
    {
     "data": {
      "text/plain": [
       "feelings\n",
       "'negative'     3177\n",
       "'neutral'     10894\n",
       "'positive'     8936\n",
       "Name: feelings, dtype: int64"
      ]
     },
     "execution_count": 94,
     "metadata": {},
     "output_type": "execute_result"
    }
   ],
   "source": [
    "feelings.head()"
   ]
  },
  {
   "cell_type": "code",
   "execution_count": 95,
   "metadata": {},
   "outputs": [
    {
     "data": {
      "text/html": [
       "<iframe id=\"igraph\" scrolling=\"no\" style=\"border:none;\" seamless=\"seamless\" src=\"https://plot.ly/~SuranKularatnafe1c/603.embed\" height=\"525px\" width=\"100%\"></iframe>"
      ],
      "text/plain": [
       "<plotly.tools.PlotlyDisplay object>"
      ]
     },
     "execution_count": 95,
     "metadata": {},
     "output_type": "execute_result"
    }
   ],
   "source": [
    "feelings.iplot(kind='bar',color=\"blue\")"
   ]
  },
  {
   "cell_type": "markdown",
   "metadata": {},
   "source": [
    "Overall it looks like most tweets are in the neutral category"
   ]
  },
  {
   "cell_type": "markdown",
   "metadata": {},
   "source": [
    "## Tweets Over Time\n",
    "\n",
    "To find this first we need to convert the created_at to local time zone. This means we need to do UTC+ 8 as I am in Singapore therefore I wish to see the local time from where I am located. From there we can create a column to compute the hour of day and then calculate the number of tweets. "
   ]
  },
  {
   "cell_type": "code",
   "execution_count": 96,
   "metadata": {
    "collapsed": true
   },
   "outputs": [],
   "source": [
    "utc_offset = +8 #singapore time \n",
    "tweet['Local_Time']=tweet.created_at + pd.to_timedelta(utc_offset,unit='h')"
   ]
  },
  {
   "cell_type": "code",
   "execution_count": 97,
   "metadata": {},
   "outputs": [
    {
     "data": {
      "text/html": [
       "<div>\n",
       "<style scoped>\n",
       "    .dataframe tbody tr th:only-of-type {\n",
       "        vertical-align: middle;\n",
       "    }\n",
       "\n",
       "    .dataframe tbody tr th {\n",
       "        vertical-align: top;\n",
       "    }\n",
       "\n",
       "    .dataframe thead th {\n",
       "        text-align: right;\n",
       "    }\n",
       "</style>\n",
       "<table border=\"1\" class=\"dataframe\">\n",
       "  <thead>\n",
       "    <tr style=\"text-align: right;\">\n",
       "      <th></th>\n",
       "      <th>created_at</th>\n",
       "      <th>text</th>\n",
       "      <th>screen_name</th>\n",
       "      <th>followers_count</th>\n",
       "      <th>favourite_count</th>\n",
       "      <th>hashtaglist</th>\n",
       "      <th>device_used</th>\n",
       "      <th>feelings</th>\n",
       "      <th>Local_Time</th>\n",
       "    </tr>\n",
       "  </thead>\n",
       "  <tbody>\n",
       "    <tr>\n",
       "      <th>1</th>\n",
       "      <td>2018-03-23 00:40:34</td>\n",
       "      <td>@lopp @_Kevin_Pham @psycho_sage @naval But @Pr...</td>\n",
       "      <td>BitMocro</td>\n",
       "      <td>1295</td>\n",
       "      <td>0</td>\n",
       "      <td>u'Bitcoin'</td>\n",
       "      <td>&lt;a href=\"http://twitter.com/download/android\" ...</td>\n",
       "      <td>'neutral'</td>\n",
       "      <td>2018-03-23 08:40:34</td>\n",
       "    </tr>\n",
       "    <tr>\n",
       "      <th>3</th>\n",
       "      <td>2018-03-23 00:40:36</td>\n",
       "      <td>free coins https://t.co/DiuoePJdap</td>\n",
       "      <td>denies_distro</td>\n",
       "      <td>2626</td>\n",
       "      <td>0</td>\n",
       "      <td></td>\n",
       "      <td>&lt;a href=\"http://twitter.com\" rel=\"nofollow\"&gt;Tw...</td>\n",
       "      <td>'positive'</td>\n",
       "      <td>2018-03-23 08:40:36</td>\n",
       "    </tr>\n",
       "    <tr>\n",
       "      <th>5</th>\n",
       "      <td>2018-03-23 00:40:36</td>\n",
       "      <td>Copy successful traders automatically with Bit...</td>\n",
       "      <td>VictorS61164810</td>\n",
       "      <td>14</td>\n",
       "      <td>0</td>\n",
       "      <td></td>\n",
       "      <td>&lt;a href=\"http://twitter.com\" rel=\"nofollow\"&gt;Tw...</td>\n",
       "      <td>'positive'</td>\n",
       "      <td>2018-03-23 08:40:36</td>\n",
       "    </tr>\n",
       "    <tr>\n",
       "      <th>7</th>\n",
       "      <td>2018-03-23 00:40:37</td>\n",
       "      <td>One click to start mining cryptocurrencies tog...</td>\n",
       "      <td>cloud_speaker</td>\n",
       "      <td>6560</td>\n",
       "      <td>0</td>\n",
       "      <td>u'bitcoin', u'PaaS', u'cloudnetwork'</td>\n",
       "      <td>&lt;a href=\"http://itunes.apple.com/us/app/twitte...</td>\n",
       "      <td>'neutral'</td>\n",
       "      <td>2018-03-23 08:40:37</td>\n",
       "    </tr>\n",
       "    <tr>\n",
       "      <th>8</th>\n",
       "      <td>2018-03-23 00:40:38</td>\n",
       "      <td>first speaker @digitsu\\n\\n\"how we can get bitc...</td>\n",
       "      <td>MADinMelbourne</td>\n",
       "      <td>2991</td>\n",
       "      <td>0</td>\n",
       "      <td></td>\n",
       "      <td>&lt;a href=\"http://twitter.com\" rel=\"nofollow\"&gt;Tw...</td>\n",
       "      <td>'positive'</td>\n",
       "      <td>2018-03-23 08:40:38</td>\n",
       "    </tr>\n",
       "  </tbody>\n",
       "</table>\n",
       "</div>"
      ],
      "text/plain": [
       "           created_at                                               text      screen_name  followers_count  favourite_count                           hashtaglist                                        device_used    feelings          Local_Time\n",
       "1 2018-03-23 00:40:34  @lopp @_Kevin_Pham @psycho_sage @naval But @Pr...         BitMocro             1295                0                            u'Bitcoin'  <a href=\"http://twitter.com/download/android\" ...   'neutral' 2018-03-23 08:40:34\n",
       "3 2018-03-23 00:40:36                 free coins https://t.co/DiuoePJdap    denies_distro             2626                0                                        <a href=\"http://twitter.com\" rel=\"nofollow\">Tw...  'positive' 2018-03-23 08:40:36\n",
       "5 2018-03-23 00:40:36  Copy successful traders automatically with Bit...  VictorS61164810               14                0                                        <a href=\"http://twitter.com\" rel=\"nofollow\">Tw...  'positive' 2018-03-23 08:40:36\n",
       "7 2018-03-23 00:40:37  One click to start mining cryptocurrencies tog...    cloud_speaker             6560                0  u'bitcoin', u'PaaS', u'cloudnetwork'  <a href=\"http://itunes.apple.com/us/app/twitte...   'neutral' 2018-03-23 08:40:37\n",
       "8 2018-03-23 00:40:38  first speaker @digitsu\\n\\n\"how we can get bitc...   MADinMelbourne             2991                0                                        <a href=\"http://twitter.com\" rel=\"nofollow\">Tw...  'positive' 2018-03-23 08:40:38"
      ]
     },
     "execution_count": 97,
     "metadata": {},
     "output_type": "execute_result"
    }
   ],
   "source": [
    "tweet.head() # checking our new column "
   ]
  },
  {
   "cell_type": "code",
   "execution_count": 98,
   "metadata": {
    "collapsed": true
   },
   "outputs": [],
   "source": [
    "tweet['hour']=[time.hour for time in tweet.Local_Time]"
   ]
  },
  {
   "cell_type": "code",
   "execution_count": 99,
   "metadata": {},
   "outputs": [
    {
     "data": {
      "text/html": [
       "<div>\n",
       "<style scoped>\n",
       "    .dataframe tbody tr th:only-of-type {\n",
       "        vertical-align: middle;\n",
       "    }\n",
       "\n",
       "    .dataframe tbody tr th {\n",
       "        vertical-align: top;\n",
       "    }\n",
       "\n",
       "    .dataframe thead th {\n",
       "        text-align: right;\n",
       "    }\n",
       "</style>\n",
       "<table border=\"1\" class=\"dataframe\">\n",
       "  <thead>\n",
       "    <tr style=\"text-align: right;\">\n",
       "      <th></th>\n",
       "      <th>created_at</th>\n",
       "      <th>text</th>\n",
       "      <th>screen_name</th>\n",
       "      <th>followers_count</th>\n",
       "      <th>favourite_count</th>\n",
       "      <th>hashtaglist</th>\n",
       "      <th>device_used</th>\n",
       "      <th>feelings</th>\n",
       "      <th>Local_Time</th>\n",
       "      <th>hour</th>\n",
       "    </tr>\n",
       "  </thead>\n",
       "  <tbody>\n",
       "    <tr>\n",
       "      <th>1</th>\n",
       "      <td>2018-03-23 00:40:34</td>\n",
       "      <td>@lopp @_Kevin_Pham @psycho_sage @naval But @Pr...</td>\n",
       "      <td>BitMocro</td>\n",
       "      <td>1295</td>\n",
       "      <td>0</td>\n",
       "      <td>u'Bitcoin'</td>\n",
       "      <td>&lt;a href=\"http://twitter.com/download/android\" ...</td>\n",
       "      <td>'neutral'</td>\n",
       "      <td>2018-03-23 08:40:34</td>\n",
       "      <td>8</td>\n",
       "    </tr>\n",
       "    <tr>\n",
       "      <th>3</th>\n",
       "      <td>2018-03-23 00:40:36</td>\n",
       "      <td>free coins https://t.co/DiuoePJdap</td>\n",
       "      <td>denies_distro</td>\n",
       "      <td>2626</td>\n",
       "      <td>0</td>\n",
       "      <td></td>\n",
       "      <td>&lt;a href=\"http://twitter.com\" rel=\"nofollow\"&gt;Tw...</td>\n",
       "      <td>'positive'</td>\n",
       "      <td>2018-03-23 08:40:36</td>\n",
       "      <td>8</td>\n",
       "    </tr>\n",
       "    <tr>\n",
       "      <th>5</th>\n",
       "      <td>2018-03-23 00:40:36</td>\n",
       "      <td>Copy successful traders automatically with Bit...</td>\n",
       "      <td>VictorS61164810</td>\n",
       "      <td>14</td>\n",
       "      <td>0</td>\n",
       "      <td></td>\n",
       "      <td>&lt;a href=\"http://twitter.com\" rel=\"nofollow\"&gt;Tw...</td>\n",
       "      <td>'positive'</td>\n",
       "      <td>2018-03-23 08:40:36</td>\n",
       "      <td>8</td>\n",
       "    </tr>\n",
       "    <tr>\n",
       "      <th>7</th>\n",
       "      <td>2018-03-23 00:40:37</td>\n",
       "      <td>One click to start mining cryptocurrencies tog...</td>\n",
       "      <td>cloud_speaker</td>\n",
       "      <td>6560</td>\n",
       "      <td>0</td>\n",
       "      <td>u'bitcoin', u'PaaS', u'cloudnetwork'</td>\n",
       "      <td>&lt;a href=\"http://itunes.apple.com/us/app/twitte...</td>\n",
       "      <td>'neutral'</td>\n",
       "      <td>2018-03-23 08:40:37</td>\n",
       "      <td>8</td>\n",
       "    </tr>\n",
       "    <tr>\n",
       "      <th>8</th>\n",
       "      <td>2018-03-23 00:40:38</td>\n",
       "      <td>first speaker @digitsu\\n\\n\"how we can get bitc...</td>\n",
       "      <td>MADinMelbourne</td>\n",
       "      <td>2991</td>\n",
       "      <td>0</td>\n",
       "      <td></td>\n",
       "      <td>&lt;a href=\"http://twitter.com\" rel=\"nofollow\"&gt;Tw...</td>\n",
       "      <td>'positive'</td>\n",
       "      <td>2018-03-23 08:40:38</td>\n",
       "      <td>8</td>\n",
       "    </tr>\n",
       "  </tbody>\n",
       "</table>\n",
       "</div>"
      ],
      "text/plain": [
       "           created_at                                               text      screen_name  followers_count  favourite_count                           hashtaglist                                        device_used    feelings          Local_Time  hour\n",
       "1 2018-03-23 00:40:34  @lopp @_Kevin_Pham @psycho_sage @naval But @Pr...         BitMocro             1295                0                            u'Bitcoin'  <a href=\"http://twitter.com/download/android\" ...   'neutral' 2018-03-23 08:40:34     8\n",
       "3 2018-03-23 00:40:36                 free coins https://t.co/DiuoePJdap    denies_distro             2626                0                                        <a href=\"http://twitter.com\" rel=\"nofollow\">Tw...  'positive' 2018-03-23 08:40:36     8\n",
       "5 2018-03-23 00:40:36  Copy successful traders automatically with Bit...  VictorS61164810               14                0                                        <a href=\"http://twitter.com\" rel=\"nofollow\">Tw...  'positive' 2018-03-23 08:40:36     8\n",
       "7 2018-03-23 00:40:37  One click to start mining cryptocurrencies tog...    cloud_speaker             6560                0  u'bitcoin', u'PaaS', u'cloudnetwork'  <a href=\"http://itunes.apple.com/us/app/twitte...   'neutral' 2018-03-23 08:40:37     8\n",
       "8 2018-03-23 00:40:38  first speaker @digitsu\\n\\n\"how we can get bitc...   MADinMelbourne             2991                0                                        <a href=\"http://twitter.com\" rel=\"nofollow\">Tw...  'positive' 2018-03-23 08:40:38     8"
      ]
     },
     "execution_count": 99,
     "metadata": {},
     "output_type": "execute_result"
    }
   ],
   "source": [
    "tweet.head() #great we have the hour column"
   ]
  },
  {
   "cell_type": "code",
   "execution_count": 100,
   "metadata": {
    "collapsed": true
   },
   "outputs": [],
   "source": [
    "tweets_per_hour=tweet.groupby(['hour'])['text'].count().reset_index(name='tweets_count') # grouped to get number of tweets from author per hour"
   ]
  },
  {
   "cell_type": "code",
   "execution_count": 101,
   "metadata": {},
   "outputs": [
    {
     "data": {
      "text/html": [
       "<iframe id=\"igraph\" scrolling=\"no\" style=\"border:none;\" seamless=\"seamless\" src=\"https://plot.ly/~SuranKularatnafe1c/605.embed\" height=\"525px\" width=\"100%\"></iframe>"
      ],
      "text/plain": [
       "<plotly.tools.PlotlyDisplay object>"
      ]
     },
     "execution_count": 101,
     "metadata": {},
     "output_type": "execute_result"
    }
   ],
   "source": [
    "tweets_per_hour.iplot(kind='scatter',x='hour',y='tweets_count',title=\"Tweets Per Hour\",xTitle=\"Hour\",yTitle=\"Tweet Count\",color='green')"
   ]
  },
  {
   "cell_type": "markdown",
   "metadata": {},
   "source": [
    "15 (3pm) hours seems to be a popular time for tweets."
   ]
  },
  {
   "cell_type": "markdown",
   "metadata": {},
   "source": [
    "## Tweet Mentions\n",
    "\n",
    "A tweet mention is any tweet whereby a tweeter has called out to  another. We search for tweet text that starts with '@'"
   ]
  },
  {
   "cell_type": "code",
   "execution_count": 102,
   "metadata": {
    "collapsed": true
   },
   "outputs": [],
   "source": [
    "tweet['mention']=tweet['text'].str.startswith('@') #returns a boolean for all that match and adds new column"
   ]
  },
  {
   "cell_type": "code",
   "execution_count": 103,
   "metadata": {},
   "outputs": [
    {
     "data": {
      "text/html": [
       "<div>\n",
       "<style scoped>\n",
       "    .dataframe tbody tr th:only-of-type {\n",
       "        vertical-align: middle;\n",
       "    }\n",
       "\n",
       "    .dataframe tbody tr th {\n",
       "        vertical-align: top;\n",
       "    }\n",
       "\n",
       "    .dataframe thead th {\n",
       "        text-align: right;\n",
       "    }\n",
       "</style>\n",
       "<table border=\"1\" class=\"dataframe\">\n",
       "  <thead>\n",
       "    <tr style=\"text-align: right;\">\n",
       "      <th></th>\n",
       "      <th>created_at</th>\n",
       "      <th>text</th>\n",
       "      <th>screen_name</th>\n",
       "      <th>followers_count</th>\n",
       "      <th>favourite_count</th>\n",
       "      <th>hashtaglist</th>\n",
       "      <th>device_used</th>\n",
       "      <th>feelings</th>\n",
       "      <th>Local_Time</th>\n",
       "      <th>hour</th>\n",
       "      <th>mention</th>\n",
       "    </tr>\n",
       "  </thead>\n",
       "  <tbody>\n",
       "    <tr>\n",
       "      <th>1</th>\n",
       "      <td>2018-03-23 00:40:34</td>\n",
       "      <td>@lopp @_Kevin_Pham @psycho_sage @naval But @Pr...</td>\n",
       "      <td>BitMocro</td>\n",
       "      <td>1295</td>\n",
       "      <td>0</td>\n",
       "      <td>u'Bitcoin'</td>\n",
       "      <td>&lt;a href=\"http://twitter.com/download/android\" ...</td>\n",
       "      <td>'neutral'</td>\n",
       "      <td>2018-03-23 08:40:34</td>\n",
       "      <td>8</td>\n",
       "      <td>True</td>\n",
       "    </tr>\n",
       "    <tr>\n",
       "      <th>3</th>\n",
       "      <td>2018-03-23 00:40:36</td>\n",
       "      <td>free coins https://t.co/DiuoePJdap</td>\n",
       "      <td>denies_distro</td>\n",
       "      <td>2626</td>\n",
       "      <td>0</td>\n",
       "      <td></td>\n",
       "      <td>&lt;a href=\"http://twitter.com\" rel=\"nofollow\"&gt;Tw...</td>\n",
       "      <td>'positive'</td>\n",
       "      <td>2018-03-23 08:40:36</td>\n",
       "      <td>8</td>\n",
       "      <td>False</td>\n",
       "    </tr>\n",
       "    <tr>\n",
       "      <th>5</th>\n",
       "      <td>2018-03-23 00:40:36</td>\n",
       "      <td>Copy successful traders automatically with Bit...</td>\n",
       "      <td>VictorS61164810</td>\n",
       "      <td>14</td>\n",
       "      <td>0</td>\n",
       "      <td></td>\n",
       "      <td>&lt;a href=\"http://twitter.com\" rel=\"nofollow\"&gt;Tw...</td>\n",
       "      <td>'positive'</td>\n",
       "      <td>2018-03-23 08:40:36</td>\n",
       "      <td>8</td>\n",
       "      <td>False</td>\n",
       "    </tr>\n",
       "    <tr>\n",
       "      <th>7</th>\n",
       "      <td>2018-03-23 00:40:37</td>\n",
       "      <td>One click to start mining cryptocurrencies tog...</td>\n",
       "      <td>cloud_speaker</td>\n",
       "      <td>6560</td>\n",
       "      <td>0</td>\n",
       "      <td>u'bitcoin', u'PaaS', u'cloudnetwork'</td>\n",
       "      <td>&lt;a href=\"http://itunes.apple.com/us/app/twitte...</td>\n",
       "      <td>'neutral'</td>\n",
       "      <td>2018-03-23 08:40:37</td>\n",
       "      <td>8</td>\n",
       "      <td>False</td>\n",
       "    </tr>\n",
       "    <tr>\n",
       "      <th>8</th>\n",
       "      <td>2018-03-23 00:40:38</td>\n",
       "      <td>first speaker @digitsu\\n\\n\"how we can get bitc...</td>\n",
       "      <td>MADinMelbourne</td>\n",
       "      <td>2991</td>\n",
       "      <td>0</td>\n",
       "      <td></td>\n",
       "      <td>&lt;a href=\"http://twitter.com\" rel=\"nofollow\"&gt;Tw...</td>\n",
       "      <td>'positive'</td>\n",
       "      <td>2018-03-23 08:40:38</td>\n",
       "      <td>8</td>\n",
       "      <td>False</td>\n",
       "    </tr>\n",
       "  </tbody>\n",
       "</table>\n",
       "</div>"
      ],
      "text/plain": [
       "           created_at                                               text      screen_name  followers_count  favourite_count                           hashtaglist                                        device_used    feelings          Local_Time  hour  mention\n",
       "1 2018-03-23 00:40:34  @lopp @_Kevin_Pham @psycho_sage @naval But @Pr...         BitMocro             1295                0                            u'Bitcoin'  <a href=\"http://twitter.com/download/android\" ...   'neutral' 2018-03-23 08:40:34     8     True\n",
       "3 2018-03-23 00:40:36                 free coins https://t.co/DiuoePJdap    denies_distro             2626                0                                        <a href=\"http://twitter.com\" rel=\"nofollow\">Tw...  'positive' 2018-03-23 08:40:36     8    False\n",
       "5 2018-03-23 00:40:36  Copy successful traders automatically with Bit...  VictorS61164810               14                0                                        <a href=\"http://twitter.com\" rel=\"nofollow\">Tw...  'positive' 2018-03-23 08:40:36     8    False\n",
       "7 2018-03-23 00:40:37  One click to start mining cryptocurrencies tog...    cloud_speaker             6560                0  u'bitcoin', u'PaaS', u'cloudnetwork'  <a href=\"http://itunes.apple.com/us/app/twitte...   'neutral' 2018-03-23 08:40:37     8    False\n",
       "8 2018-03-23 00:40:38  first speaker @digitsu\\n\\n\"how we can get bitc...   MADinMelbourne             2991                0                                        <a href=\"http://twitter.com\" rel=\"nofollow\">Tw...  'positive' 2018-03-23 08:40:38     8    False"
      ]
     },
     "execution_count": 103,
     "metadata": {},
     "output_type": "execute_result"
    }
   ],
   "source": [
    "tweet.head() # notice new column 'mention'"
   ]
  },
  {
   "cell_type": "code",
   "execution_count": 104,
   "metadata": {
    "collapsed": true
   },
   "outputs": [],
   "source": [
    "# check if mention is true\n",
    "mentions=tweet[tweet['mention']==True].groupby(['screen_name','mention'])['mention'].count().sort_values(ascending=False).reset_index(name='mentions').head(20)"
   ]
  },
  {
   "cell_type": "code",
   "execution_count": 105,
   "metadata": {},
   "outputs": [
    {
     "data": {
      "text/html": [
       "<iframe id=\"igraph\" scrolling=\"no\" style=\"border:none;\" seamless=\"seamless\" src=\"https://plot.ly/~SuranKularatnafe1c/607.embed\" height=\"525px\" width=\"100%\"></iframe>"
      ],
      "text/plain": [
       "<plotly.tools.PlotlyDisplay object>"
      ]
     },
     "execution_count": 105,
     "metadata": {},
     "output_type": "execute_result"
    }
   ],
   "source": [
    "mentions.iplot(kind='bar',x='screen_name',y='mentions',color='darkblue',xTitle='Tweet Account',yTitle=\"Mentions Count\",title=\"Top 20 Tweeters that have mentioned\")"
   ]
  },
  {
   "cell_type": "markdown",
   "metadata": {},
   "source": [
    "## Top 20 Tweeters with most followers"
   ]
  },
  {
   "cell_type": "code",
   "execution_count": 106,
   "metadata": {
    "collapsed": true
   },
   "outputs": [],
   "source": [
    "followers=tweet[['screen_name','followers_count']].sort_values(by='followers_count',ascending=False).drop_duplicates('screen_name').head(20)"
   ]
  },
  {
   "cell_type": "code",
   "execution_count": 107,
   "metadata": {},
   "outputs": [
    {
     "data": {
      "text/html": [
       "<div>\n",
       "<style scoped>\n",
       "    .dataframe tbody tr th:only-of-type {\n",
       "        vertical-align: middle;\n",
       "    }\n",
       "\n",
       "    .dataframe tbody tr th {\n",
       "        vertical-align: top;\n",
       "    }\n",
       "\n",
       "    .dataframe thead th {\n",
       "        text-align: right;\n",
       "    }\n",
       "</style>\n",
       "<table border=\"1\" class=\"dataframe\">\n",
       "  <thead>\n",
       "    <tr style=\"text-align: right;\">\n",
       "      <th></th>\n",
       "      <th>screen_name</th>\n",
       "      <th>followers_count</th>\n",
       "    </tr>\n",
       "  </thead>\n",
       "  <tbody>\n",
       "    <tr>\n",
       "      <th>50368</th>\n",
       "      <td>TechCrunch</td>\n",
       "      <td>10194437</td>\n",
       "    </tr>\n",
       "    <tr>\n",
       "      <th>37077</th>\n",
       "      <td>RT_com</td>\n",
       "      <td>2682400</td>\n",
       "    </tr>\n",
       "    <tr>\n",
       "      <th>6986</th>\n",
       "      <td>TheNextWeb</td>\n",
       "      <td>1849938</td>\n",
       "    </tr>\n",
       "    <tr>\n",
       "      <th>8140</th>\n",
       "      <td>nucfootball</td>\n",
       "      <td>1476307</td>\n",
       "    </tr>\n",
       "    <tr>\n",
       "      <th>49740</th>\n",
       "      <td>AFP</td>\n",
       "      <td>1441588</td>\n",
       "    </tr>\n",
       "    <tr>\n",
       "      <th>8887</th>\n",
       "      <td>nypost</td>\n",
       "      <td>1370648</td>\n",
       "    </tr>\n",
       "    <tr>\n",
       "      <th>42235</th>\n",
       "      <td>ARYNEWSOFFICIAL</td>\n",
       "      <td>1286473</td>\n",
       "    </tr>\n",
       "    <tr>\n",
       "      <th>16816</th>\n",
       "      <td>PopSci</td>\n",
       "      <td>1264695</td>\n",
       "    </tr>\n",
       "    <tr>\n",
       "      <th>14515</th>\n",
       "      <td>icokingmaker</td>\n",
       "      <td>1250852</td>\n",
       "    </tr>\n",
       "    <tr>\n",
       "      <th>32036</th>\n",
       "      <td>GeorgeMentz</td>\n",
       "      <td>1247009</td>\n",
       "    </tr>\n",
       "    <tr>\n",
       "      <th>47344</th>\n",
       "      <td>CapitalFMKenya</td>\n",
       "      <td>1208596</td>\n",
       "    </tr>\n",
       "    <tr>\n",
       "      <th>4189</th>\n",
       "      <td>michael_0000</td>\n",
       "      <td>1197705</td>\n",
       "    </tr>\n",
       "    <tr>\n",
       "      <th>4558</th>\n",
       "      <td>socialstartnow</td>\n",
       "      <td>1021517</td>\n",
       "    </tr>\n",
       "    <tr>\n",
       "      <th>6481</th>\n",
       "      <td>socialstocksnow</td>\n",
       "      <td>982187</td>\n",
       "    </tr>\n",
       "    <tr>\n",
       "      <th>12449</th>\n",
       "      <td>NesterTweets</td>\n",
       "      <td>951189</td>\n",
       "    </tr>\n",
       "    <tr>\n",
       "      <th>31542</th>\n",
       "      <td>YahooFinance</td>\n",
       "      <td>812788</td>\n",
       "    </tr>\n",
       "    <tr>\n",
       "      <th>17152</th>\n",
       "      <td>coindesk</td>\n",
       "      <td>691936</td>\n",
       "    </tr>\n",
       "    <tr>\n",
       "      <th>33072</th>\n",
       "      <td>annemariayritys</td>\n",
       "      <td>684132</td>\n",
       "    </tr>\n",
       "    <tr>\n",
       "      <th>26855</th>\n",
       "      <td>NDTVProfit</td>\n",
       "      <td>678704</td>\n",
       "    </tr>\n",
       "    <tr>\n",
       "      <th>39602</th>\n",
       "      <td>moneycontrolcom</td>\n",
       "      <td>604336</td>\n",
       "    </tr>\n",
       "  </tbody>\n",
       "</table>\n",
       "</div>"
      ],
      "text/plain": [
       "           screen_name  followers_count\n",
       "50368       TechCrunch         10194437\n",
       "37077           RT_com          2682400\n",
       "6986        TheNextWeb          1849938\n",
       "8140       nucfootball          1476307\n",
       "49740              AFP          1441588\n",
       "8887            nypost          1370648\n",
       "42235  ARYNEWSOFFICIAL          1286473\n",
       "16816           PopSci          1264695\n",
       "14515     icokingmaker          1250852\n",
       "32036      GeorgeMentz          1247009\n",
       "47344   CapitalFMKenya          1208596\n",
       "4189      michael_0000          1197705\n",
       "4558    socialstartnow          1021517\n",
       "6481   socialstocksnow           982187\n",
       "12449     NesterTweets           951189\n",
       "31542     YahooFinance           812788\n",
       "17152         coindesk           691936\n",
       "33072  annemariayritys           684132\n",
       "26855       NDTVProfit           678704\n",
       "39602  moneycontrolcom           604336"
      ]
     },
     "execution_count": 107,
     "metadata": {},
     "output_type": "execute_result"
    }
   ],
   "source": [
    "followers"
   ]
  },
  {
   "cell_type": "markdown",
   "metadata": {},
   "source": [
    "What we did here, was first create a dataframe that consists of only the screen_name and followers_count, we ordered it by ascending false so that the largest number is at the top and then we dropped duplicates for the screen_name.  \n",
    "We can now plot this "
   ]
  },
  {
   "cell_type": "code",
   "execution_count": 108,
   "metadata": {},
   "outputs": [
    {
     "data": {
      "text/html": [
       "<iframe id=\"igraph\" scrolling=\"no\" style=\"border:none;\" seamless=\"seamless\" src=\"https://plot.ly/~SuranKularatnafe1c/609.embed\" height=\"525px\" width=\"100%\"></iframe>"
      ],
      "text/plain": [
       "<plotly.tools.PlotlyDisplay object>"
      ]
     },
     "execution_count": 108,
     "metadata": {},
     "output_type": "execute_result"
    }
   ],
   "source": [
    "followers.iplot(kind='bar',x='screen_name',xTitle='Tweet Account',yTitle='Number Of Followers', title=\"Top 20 With Most Followers\",color='purple')"
   ]
  },
  {
   "cell_type": "markdown",
   "metadata": {},
   "source": [
    "## Tweets Per User Per Hour\n",
    "\n",
    "For this we can do a simple bubble chart, with four data points,  x axis will be hour of day, y axis will be the numbe of tweets, size of the bubble will be the value of y and categories will be the screen_name"
   ]
  },
  {
   "cell_type": "code",
   "execution_count": 109,
   "metadata": {
    "collapsed": true
   },
   "outputs": [],
   "source": [
    "\n",
    "tweet_per_account=tweet.groupby(['screen_name','hour'])['text'].count().sort_values(ascending=False).reset_index(name='num_of_tweets').head(20)"
   ]
  },
  {
   "cell_type": "code",
   "execution_count": 110,
   "metadata": {},
   "outputs": [
    {
     "data": {
      "text/html": [
       "<iframe id=\"igraph\" scrolling=\"no\" style=\"border:none;\" seamless=\"seamless\" src=\"https://plot.ly/~SuranKularatnafe1c/611.embed\" height=\"525px\" width=\"100%\"></iframe>"
      ],
      "text/plain": [
       "<plotly.tools.PlotlyDisplay object>"
      ]
     },
     "execution_count": 110,
     "metadata": {},
     "output_type": "execute_result"
    }
   ],
   "source": [
    "tweet_per_account.iplot(kind='bubble',x='hour',y='num_of_tweets',size='num_of_tweets',categories='screen_name',text='screen_name',xTitle=\"Hour of day\",yTitle='Tweet Count',title='Tweets per User')"
   ]
  },
  {
   "cell_type": "code",
   "execution_count": 111,
   "metadata": {
    "collapsed": true
   },
   "outputs": [],
   "source": [
    "hashtags=tweet.groupby(['hashtaglist','hour'])['hour'].count().sort_values(ascending=False).reset_index(name='hashtag_count').head(30)"
   ]
  },
  {
   "cell_type": "code",
   "execution_count": 112,
   "metadata": {},
   "outputs": [
    {
     "data": {
      "text/html": [
       "<div>\n",
       "<style scoped>\n",
       "    .dataframe tbody tr th:only-of-type {\n",
       "        vertical-align: middle;\n",
       "    }\n",
       "\n",
       "    .dataframe tbody tr th {\n",
       "        vertical-align: top;\n",
       "    }\n",
       "\n",
       "    .dataframe thead th {\n",
       "        text-align: right;\n",
       "    }\n",
       "</style>\n",
       "<table border=\"1\" class=\"dataframe\">\n",
       "  <thead>\n",
       "    <tr style=\"text-align: right;\">\n",
       "      <th></th>\n",
       "      <th>hashtaglist</th>\n",
       "      <th>hour</th>\n",
       "      <th>hashtag_count</th>\n",
       "    </tr>\n",
       "  </thead>\n",
       "  <tbody>\n",
       "    <tr>\n",
       "      <th>0</th>\n",
       "      <td></td>\n",
       "      <td>15</td>\n",
       "      <td>2060</td>\n",
       "    </tr>\n",
       "    <tr>\n",
       "      <th>1</th>\n",
       "      <td></td>\n",
       "      <td>9</td>\n",
       "      <td>1722</td>\n",
       "    </tr>\n",
       "    <tr>\n",
       "      <th>2</th>\n",
       "      <td></td>\n",
       "      <td>10</td>\n",
       "      <td>1594</td>\n",
       "    </tr>\n",
       "    <tr>\n",
       "      <th>3</th>\n",
       "      <td></td>\n",
       "      <td>11</td>\n",
       "      <td>1548</td>\n",
       "    </tr>\n",
       "    <tr>\n",
       "      <th>4</th>\n",
       "      <td></td>\n",
       "      <td>13</td>\n",
       "      <td>1524</td>\n",
       "    </tr>\n",
       "  </tbody>\n",
       "</table>\n",
       "</div>"
      ],
      "text/plain": [
       "  hashtaglist  hour  hashtag_count\n",
       "0                15           2060\n",
       "1                 9           1722\n",
       "2                10           1594\n",
       "3                11           1548\n",
       "4                13           1524"
      ]
     },
     "execution_count": 112,
     "metadata": {},
     "output_type": "execute_result"
    }
   ],
   "source": [
    "hashtags.head()"
   ]
  },
  {
   "cell_type": "code",
   "execution_count": 113,
   "metadata": {},
   "outputs": [
    {
     "data": {
      "text/html": [
       "<iframe id=\"igraph\" scrolling=\"no\" style=\"border:none;\" seamless=\"seamless\" src=\"https://plot.ly/~SuranKularatnafe1c/613.embed\" height=\"525px\" width=\"100%\"></iframe>"
      ],
      "text/plain": [
       "<plotly.tools.PlotlyDisplay object>"
      ]
     },
     "execution_count": 113,
     "metadata": {},
     "output_type": "execute_result"
    }
   ],
   "source": [
    "hashtags[9::].iplot(kind='bubble',x='hour',y='hashtag_count',size='hashtag_count',categories='hashtaglist')"
   ]
  }
 ],
 "metadata": {
  "kernelspec": {
   "display_name": "Python 2",
   "language": "python",
   "name": "python2"
  },
  "language_info": {
   "codemirror_mode": {
    "name": "ipython",
    "version": 2
   },
   "file_extension": ".py",
   "mimetype": "text/x-python",
   "name": "python",
   "nbconvert_exporter": "python",
   "pygments_lexer": "ipython2",
   "version": "2.7.12"
  }
 },
 "nbformat": 4,
 "nbformat_minor": 2
}
